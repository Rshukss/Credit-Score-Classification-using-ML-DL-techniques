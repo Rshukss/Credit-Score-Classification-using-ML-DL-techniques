{
 "cells": [
  {
   "cell_type": "code",
   "execution_count": 1,
   "id": "51adaee4",
   "metadata": {},
   "outputs": [],
   "source": [
    "import numpy as np\n",
    "import pandas as pd\n",
    "import tensorflow as tf\n",
    "from sklearn.model_selection import train_test_split\n",
    "from sklearn.preprocessing import StandardScaler\n",
    "from sklearn.metrics import accuracy_score, classification_report\n",
    "from sklearn.linear_model import LogisticRegression\n",
    "from sklearn.tree import DecisionTreeClassifier\n",
    "from sklearn.ensemble import RandomForestClassifier\n",
    "from keras.models import Sequential\n",
    "from keras.layers import Dense\n",
    "from keras.optimizers import Adam\n",
    "from keras.layers import Dense, Conv1D, MaxPooling1D, Flatten, LSTM, concatenate"
   ]
  },
  {
   "cell_type": "code",
   "execution_count": 2,
   "id": "0119dda5",
   "metadata": {},
   "outputs": [
    {
     "data": {
      "text/html": [
       "<div>\n",
       "<style scoped>\n",
       "    .dataframe tbody tr th:only-of-type {\n",
       "        vertical-align: middle;\n",
       "    }\n",
       "\n",
       "    .dataframe tbody tr th {\n",
       "        vertical-align: top;\n",
       "    }\n",
       "\n",
       "    .dataframe thead th {\n",
       "        text-align: right;\n",
       "    }\n",
       "</style>\n",
       "<table border=\"1\" class=\"dataframe\">\n",
       "  <thead>\n",
       "    <tr style=\"text-align: right;\">\n",
       "      <th></th>\n",
       "      <th>BAD</th>\n",
       "      <th>LOAN</th>\n",
       "      <th>MORTDUE</th>\n",
       "      <th>VALUE</th>\n",
       "      <th>REASON</th>\n",
       "      <th>JOB</th>\n",
       "      <th>YOJ</th>\n",
       "      <th>DEROG</th>\n",
       "      <th>DELINQ</th>\n",
       "      <th>CLAGE</th>\n",
       "      <th>NINQ</th>\n",
       "      <th>CLNO</th>\n",
       "      <th>DEBTINC</th>\n",
       "    </tr>\n",
       "  </thead>\n",
       "  <tbody>\n",
       "    <tr>\n",
       "      <th>0</th>\n",
       "      <td>1</td>\n",
       "      <td>1100</td>\n",
       "      <td>25860.0</td>\n",
       "      <td>39025.0</td>\n",
       "      <td>HomeImp</td>\n",
       "      <td>Other</td>\n",
       "      <td>10.5</td>\n",
       "      <td>0.0</td>\n",
       "      <td>0.0</td>\n",
       "      <td>94.366667</td>\n",
       "      <td>1.0</td>\n",
       "      <td>9.0</td>\n",
       "      <td>NaN</td>\n",
       "    </tr>\n",
       "    <tr>\n",
       "      <th>1</th>\n",
       "      <td>1</td>\n",
       "      <td>1300</td>\n",
       "      <td>70053.0</td>\n",
       "      <td>68400.0</td>\n",
       "      <td>HomeImp</td>\n",
       "      <td>Other</td>\n",
       "      <td>7.0</td>\n",
       "      <td>0.0</td>\n",
       "      <td>2.0</td>\n",
       "      <td>121.833333</td>\n",
       "      <td>0.0</td>\n",
       "      <td>14.0</td>\n",
       "      <td>NaN</td>\n",
       "    </tr>\n",
       "    <tr>\n",
       "      <th>2</th>\n",
       "      <td>1</td>\n",
       "      <td>1500</td>\n",
       "      <td>13500.0</td>\n",
       "      <td>16700.0</td>\n",
       "      <td>HomeImp</td>\n",
       "      <td>Other</td>\n",
       "      <td>4.0</td>\n",
       "      <td>0.0</td>\n",
       "      <td>0.0</td>\n",
       "      <td>149.466667</td>\n",
       "      <td>1.0</td>\n",
       "      <td>10.0</td>\n",
       "      <td>NaN</td>\n",
       "    </tr>\n",
       "    <tr>\n",
       "      <th>3</th>\n",
       "      <td>1</td>\n",
       "      <td>1500</td>\n",
       "      <td>NaN</td>\n",
       "      <td>NaN</td>\n",
       "      <td>NaN</td>\n",
       "      <td>NaN</td>\n",
       "      <td>NaN</td>\n",
       "      <td>NaN</td>\n",
       "      <td>NaN</td>\n",
       "      <td>NaN</td>\n",
       "      <td>NaN</td>\n",
       "      <td>NaN</td>\n",
       "      <td>NaN</td>\n",
       "    </tr>\n",
       "    <tr>\n",
       "      <th>4</th>\n",
       "      <td>0</td>\n",
       "      <td>1700</td>\n",
       "      <td>97800.0</td>\n",
       "      <td>112000.0</td>\n",
       "      <td>HomeImp</td>\n",
       "      <td>Office</td>\n",
       "      <td>3.0</td>\n",
       "      <td>0.0</td>\n",
       "      <td>0.0</td>\n",
       "      <td>93.333333</td>\n",
       "      <td>0.0</td>\n",
       "      <td>14.0</td>\n",
       "      <td>NaN</td>\n",
       "    </tr>\n",
       "  </tbody>\n",
       "</table>\n",
       "</div>"
      ],
      "text/plain": [
       "   BAD  LOAN  MORTDUE     VALUE   REASON     JOB   YOJ  DEROG  DELINQ  \\\n",
       "0    1  1100  25860.0   39025.0  HomeImp   Other  10.5    0.0     0.0   \n",
       "1    1  1300  70053.0   68400.0  HomeImp   Other   7.0    0.0     2.0   \n",
       "2    1  1500  13500.0   16700.0  HomeImp   Other   4.0    0.0     0.0   \n",
       "3    1  1500      NaN       NaN      NaN     NaN   NaN    NaN     NaN   \n",
       "4    0  1700  97800.0  112000.0  HomeImp  Office   3.0    0.0     0.0   \n",
       "\n",
       "        CLAGE  NINQ  CLNO  DEBTINC  \n",
       "0   94.366667   1.0   9.0      NaN  \n",
       "1  121.833333   0.0  14.0      NaN  \n",
       "2  149.466667   1.0  10.0      NaN  \n",
       "3         NaN   NaN   NaN      NaN  \n",
       "4   93.333333   0.0  14.0      NaN  "
      ]
     },
     "execution_count": 2,
     "metadata": {},
     "output_type": "execute_result"
    }
   ],
   "source": [
    "credit_data = pd.read_csv('Credit_Dataset.csv')\n",
    "credit_data.head()"
   ]
  },
  {
   "cell_type": "code",
   "execution_count": 3,
   "id": "000c7be6",
   "metadata": {},
   "outputs": [
    {
     "name": "stdout",
     "output_type": "stream",
     "text": [
      "<class 'pandas.core.frame.DataFrame'>\n",
      "RangeIndex: 5960 entries, 0 to 5959\n",
      "Data columns (total 13 columns):\n",
      " #   Column   Non-Null Count  Dtype  \n",
      "---  ------   --------------  -----  \n",
      " 0   BAD      5960 non-null   int64  \n",
      " 1   LOAN     5960 non-null   int64  \n",
      " 2   MORTDUE  5442 non-null   float64\n",
      " 3   VALUE    5848 non-null   float64\n",
      " 4   REASON   5708 non-null   object \n",
      " 5   JOB      5681 non-null   object \n",
      " 6   YOJ      5445 non-null   float64\n",
      " 7   DEROG    5252 non-null   float64\n",
      " 8   DELINQ   5380 non-null   float64\n",
      " 9   CLAGE    5652 non-null   float64\n",
      " 10  NINQ     5450 non-null   float64\n",
      " 11  CLNO     5738 non-null   float64\n",
      " 12  DEBTINC  4693 non-null   float64\n",
      "dtypes: float64(9), int64(2), object(2)\n",
      "memory usage: 605.4+ KB\n"
     ]
    }
   ],
   "source": [
    "credit_data.info()"
   ]
  },
  {
   "cell_type": "code",
   "execution_count": 4,
   "id": "ad9763b1",
   "metadata": {},
   "outputs": [
    {
     "data": {
      "text/plain": [
       "BAD           0\n",
       "LOAN          0\n",
       "MORTDUE     518\n",
       "VALUE       112\n",
       "REASON      252\n",
       "JOB         279\n",
       "YOJ         515\n",
       "DEROG       708\n",
       "DELINQ      580\n",
       "CLAGE       308\n",
       "NINQ        510\n",
       "CLNO        222\n",
       "DEBTINC    1267\n",
       "dtype: int64"
      ]
     },
     "execution_count": 4,
     "metadata": {},
     "output_type": "execute_result"
    }
   ],
   "source": [
    "credit_data.isna().sum()"
   ]
  },
  {
   "cell_type": "code",
   "execution_count": 5,
   "id": "b849b9b2",
   "metadata": {},
   "outputs": [
    {
     "name": "stdout",
     "output_type": "stream",
     "text": [
      "Total number of duplicate rows: 0\n",
      "Total number of null values in each column:\n",
      "BAD           0\n",
      "LOAN          0\n",
      "MORTDUE     518\n",
      "VALUE       112\n",
      "REASON      252\n",
      "JOB         279\n",
      "YOJ         515\n",
      "DEROG       708\n",
      "DELINQ      580\n",
      "CLAGE       308\n",
      "NINQ        510\n",
      "CLNO        222\n",
      "DEBTINC    1267\n",
      "dtype: int64\n"
     ]
    }
   ],
   "source": [
    "duplicate_count = credit_data.duplicated().sum()\n",
    "print(\"Total number of duplicate rows:\", duplicate_count)\n",
    "null_values_count = credit_data.isnull().sum()\n",
    "print(\"Total number of null values in each column:\")\n",
    "print(null_values_count)"
   ]
  },
  {
   "cell_type": "code",
   "execution_count": 6,
   "id": "40e31da0",
   "metadata": {},
   "outputs": [
    {
     "data": {
      "text/plain": [
       "BAD        0\n",
       "LOAN       0\n",
       "MORTDUE    0\n",
       "VALUE      0\n",
       "YOJ        0\n",
       "DEROG      0\n",
       "DELINQ     0\n",
       "CLAGE      0\n",
       "NINQ       0\n",
       "CLNO       0\n",
       "DEBTINC    0\n",
       "dtype: int64"
      ]
     },
     "execution_count": 6,
     "metadata": {},
     "output_type": "execute_result"
    }
   ],
   "source": [
    "credit_data = credit_data.drop(\"REASON\",axis=1)\n",
    "credit_data = credit_data.drop(\"JOB\",axis=1)\n",
    "credit_data = credit_data.fillna(credit_data.mean())\n",
    "credit_data.isna().sum()"
   ]
  },
  {
   "cell_type": "code",
   "execution_count": 8,
   "id": "b56de11c",
   "metadata": {},
   "outputs": [
    {
     "data": {
      "text/plain": [
       "(5960, 11)"
      ]
     },
     "execution_count": 8,
     "metadata": {},
     "output_type": "execute_result"
    }
   ],
   "source": [
    "credit_data.shape"
   ]
  },
  {
   "cell_type": "code",
   "execution_count": 6,
   "id": "bf9ef389",
   "metadata": {},
   "outputs": [],
   "source": [
    "credit_data.rename(columns={\"BAD\":\"TARGET\"},inplace=True)\n",
    "X = credit_data.drop(columns=\"TARGET\",axis=1)\n",
    "Y = credit_data[\"TARGET\"]\n",
    "\n",
    "X_train, X_test, Y_train, Y_test = train_test_split(X,Y,test_size=0.20,stratify=Y,random_state=42)\n",
    "\n",
    "scaler = StandardScaler()\n",
    "X_train_scaled = scaler.fit_transform(X_train)\n",
    "X_test_scaled = scaler.transform(X_test)"
   ]
  },
  {
   "cell_type": "code",
   "execution_count": 7,
   "id": "e944b819",
   "metadata": {},
   "outputs": [],
   "source": [
    "lr_classifier = LogisticRegression()\n",
    "dt_classifier = DecisionTreeClassifier()\n",
    "rf_classifier = RandomForestClassifier()"
   ]
  },
  {
   "cell_type": "code",
   "execution_count": 9,
   "id": "be9d1ff0",
   "metadata": {},
   "outputs": [],
   "source": [
    "lr_classifier.fit(X_train_scaled, Y_train)\n",
    "lr_predictions = lr_classifier.predict(X_test_scaled)\n",
    "lr_accuracy = accuracy_score(Y_test, lr_predictions)\n",
    "lr_report = classification_report(Y_test, lr_predictions)"
   ]
  },
  {
   "cell_type": "code",
   "execution_count": 10,
   "id": "21e77ea2",
   "metadata": {},
   "outputs": [],
   "source": [
    "dt_classifier.fit(X_train_scaled, Y_train)\n",
    "dt_predictions = dt_classifier.predict(X_test_scaled)\n",
    "dt_accuracy = accuracy_score(Y_test, dt_predictions)\n",
    "dt_report = classification_report(Y_test, dt_predictions)"
   ]
  },
  {
   "cell_type": "code",
   "execution_count": 11,
   "id": "90ab311b",
   "metadata": {},
   "outputs": [],
   "source": [
    "rf_classifier.fit(X_train_scaled, Y_train)\n",
    "rf_predictions = rf_classifier.predict(X_test_scaled)\n",
    "rf_accuracy = accuracy_score(Y_test, rf_predictions)\n",
    "rf_report = classification_report(Y_test, rf_predictions)"
   ]
  },
  {
   "cell_type": "code",
   "execution_count": 17,
   "id": "080bb313",
   "metadata": {},
   "outputs": [
    {
     "name": "stdout",
     "output_type": "stream",
     "text": [
      "38/38 [==============================] - 0s 2ms/step\n"
     ]
    }
   ],
   "source": [
    "# Define MLP model\n",
    "mlp_model = Sequential()\n",
    "mlp_model.add(Dense(64, activation='relu', input_dim=X_train_scaled.shape[1]))\n",
    "mlp_model.add(Dense(64, activation='relu'))\n",
    "mlp_model.add(Dense(1, activation='sigmoid'))\n",
    "\n",
    "# Compile and train the MLP model\n",
    "mlp_model.compile(loss='binary_crossentropy', optimizer=Adam(), metrics=['accuracy'])\n",
    "mlp_model.fit(X_train_scaled, Y_train, epochs=10, batch_size=32, verbose=0)\n",
    "\n",
    "# Evaluate MLP model\n",
    "mlp_probabilities = mlp_model.predict(X_test_scaled)\n",
    "mlp_predictions = (mlp_probabilities > 0.5).astype(int)\n",
    "mlp_accuracy = accuracy_score(Y_test, mlp_predictions)\n",
    "mlp_report = classification_report(Y_test, mlp_predictions)"
   ]
  },
  {
   "cell_type": "code",
   "execution_count": 18,
   "id": "b0c78e90",
   "metadata": {},
   "outputs": [],
   "source": [
    "X_train_reshaped = X_train_scaled.reshape((X_train_scaled.shape[0], X_train_scaled.shape[1], 1))\n",
    "X_test_reshaped = X_test_scaled.reshape((X_test_scaled.shape[0], X_test_scaled.shape[1], 1))"
   ]
  },
  {
   "cell_type": "code",
   "execution_count": 22,
   "id": "9a490593",
   "metadata": {},
   "outputs": [
    {
     "data": {
      "text/plain": [
       "<keras.callbacks.History at 0x27812a36280>"
      ]
     },
     "execution_count": 22,
     "metadata": {},
     "output_type": "execute_result"
    }
   ],
   "source": [
    "cnn_model = Sequential()\n",
    "cnn_model.add(Conv1D(filters=32, kernel_size=3, activation='relu', input_shape=(X_train_reshaped.shape[1], 1)))\n",
    "cnn_model.add(MaxPooling1D(pool_size=2))\n",
    "cnn_model.add(Flatten())\n",
    "cnn_model.add(Dense(64, activation='relu'))\n",
    "cnn_model.add(Dense(1, activation='sigmoid'))\n",
    "\n",
    "cnn_model.compile(loss='binary_crossentropy', optimizer=Adam(), metrics=['accuracy'])\n",
    "cnn_model.fit(X_train_reshaped, Y_train, epochs=10, batch_size=32, verbose=0)"
   ]
  },
  {
   "cell_type": "code",
   "execution_count": 24,
   "id": "81dca839",
   "metadata": {},
   "outputs": [
    {
     "name": "stdout",
     "output_type": "stream",
     "text": [
      "38/38 [==============================] - 0s 2ms/step\n"
     ]
    }
   ],
   "source": [
    "cnn_probabilities = cnn_model.predict(X_test_reshaped)\n",
    "cnn_predictions = (cnn_probabilities > 0.5).astype(int)\n",
    "cnn_accuracy = accuracy_score(Y_test, cnn_predictions)\n",
    "cnn_report = classification_report(Y_test, cnn_predictions)"
   ]
  },
  {
   "cell_type": "code",
   "execution_count": 25,
   "id": "a3d4f606",
   "metadata": {},
   "outputs": [
    {
     "name": "stdout",
     "output_type": "stream",
     "text": [
      "38/38 [==============================] - 1s 5ms/step\n"
     ]
    }
   ],
   "source": [
    "rnn_model = Sequential()\n",
    "rnn_model.add(LSTM(64, input_shape=(X_train_reshaped.shape[1], 1)))\n",
    "rnn_model.add(Dense(1, activation='sigmoid'))\n",
    "\n",
    "# Compile and train the RNN model\n",
    "rnn_model.compile(loss='binary_crossentropy', optimizer=Adam(), metrics=['accuracy'])\n",
    "rnn_model.fit(X_train_reshaped, Y_train, epochs=10, batch_size=32, verbose=0)\n",
    "\n",
    "# Evaluate RNN model\n",
    "rnn_probabilities = rnn_model.predict(X_test_reshaped)\n",
    "rnn_predictions = (rnn_probabilities > 0.5).astype(int)\n",
    "rnn_accuracy = accuracy_score(Y_test, rnn_predictions)\n",
    "rnn_report = classification_report(Y_test, rnn_predictions)"
   ]
  },
  {
   "cell_type": "code",
   "execution_count": 26,
   "id": "60a04129",
   "metadata": {},
   "outputs": [
    {
     "name": "stdout",
     "output_type": "stream",
     "text": [
      "38/38 [==============================] - 1s 3ms/step\n"
     ]
    }
   ],
   "source": [
    "input_shape = (X_train_reshaped.shape[1], 1)\n",
    "\n",
    "hybrid_model = Sequential()\n",
    "hybrid_model.add(Conv1D(filters=32, kernel_size=3, activation='relu', input_shape=input_shape))\n",
    "hybrid_model.add(MaxPooling1D(pool_size=2))\n",
    "hybrid_model.add(LSTM(64))\n",
    "hybrid_model.add(Dense(1, activation='sigmoid'))\n",
    "\n",
    "# Compile and train the Hybrid model\n",
    "hybrid_model.compile(loss='binary_crossentropy', optimizer=Adam(), metrics=['accuracy'])\n",
    "hybrid_model.fit(X_train_reshaped, Y_train, epochs=10, batch_size=32, verbose=0)\n",
    "\n",
    "# Evaluate Hybrid model\n",
    "hybrid_probabilities = hybrid_model.predict(X_test_reshaped)\n",
    "hybrid_predictions = (hybrid_probabilities > 0.5).astype(int)\n",
    "hybrid_accuracy = accuracy_score(Y_test, hybrid_predictions)\n",
    "hybrid_report = classification_report(Y_test, hybrid_predictions)"
   ]
  },
  {
   "cell_type": "code",
   "execution_count": 27,
   "id": "718809c0",
   "metadata": {},
   "outputs": [
    {
     "name": "stdout",
     "output_type": "stream",
     "text": [
      "Traditional ML Classifiers:\n",
      "Logistic Regression Accuracy: 0.8355704697986577\n",
      "Logistic Regression Report:\n",
      "               precision    recall  f1-score   support\n",
      "\n",
      "           0       0.85      0.97      0.90       954\n",
      "           1       0.70      0.31      0.43       238\n",
      "\n",
      "    accuracy                           0.84      1192\n",
      "   macro avg       0.77      0.64      0.67      1192\n",
      "weighted avg       0.82      0.84      0.81      1192\n",
      "\n",
      "\n",
      "Decision Tree Accuracy: 0.8699664429530202\n",
      "Decision Tree Report:\n",
      "               precision    recall  f1-score   support\n",
      "\n",
      "           0       0.90      0.94      0.92       954\n",
      "           1       0.70      0.60      0.65       238\n",
      "\n",
      "    accuracy                           0.87      1192\n",
      "   macro avg       0.80      0.77      0.78      1192\n",
      "weighted avg       0.86      0.87      0.87      1192\n",
      "\n",
      "\n",
      "Random Forest Accuracy: 0.9026845637583892\n",
      "Random Forest Report:\n",
      "               precision    recall  f1-score   support\n",
      "\n",
      "           0       0.92      0.97      0.94       954\n",
      "           1       0.83      0.64      0.73       238\n",
      "\n",
      "    accuracy                           0.90      1192\n",
      "   macro avg       0.87      0.81      0.83      1192\n",
      "weighted avg       0.90      0.90      0.90      1192\n",
      "\n",
      "\n",
      "Deep Learning Classifiers:\n",
      "MLP Accuracy: 0.8708053691275168\n",
      "MLP Report:\n",
      "               precision    recall  f1-score   support\n",
      "\n",
      "           0       0.89      0.95      0.92       954\n",
      "           1       0.74      0.55      0.63       238\n",
      "\n",
      "    accuracy                           0.87      1192\n",
      "   macro avg       0.82      0.75      0.78      1192\n",
      "weighted avg       0.86      0.87      0.86      1192\n",
      "\n",
      "\n",
      "CNN Accuracy: 0.8716442953020134\n",
      "CNN Report:\n",
      "               precision    recall  f1-score   support\n",
      "\n",
      "           0       0.88      0.97      0.92       954\n",
      "           1       0.80      0.47      0.60       238\n",
      "\n",
      "    accuracy                           0.87      1192\n",
      "   macro avg       0.84      0.72      0.76      1192\n",
      "weighted avg       0.87      0.87      0.86      1192\n",
      "\n",
      "\n",
      "RNN Accuracy: 0.834731543624161\n",
      "RNN Report:\n",
      "               precision    recall  f1-score   support\n",
      "\n",
      "           0       0.83      0.99      0.91       954\n",
      "           1       0.84      0.21      0.34       238\n",
      "\n",
      "    accuracy                           0.83      1192\n",
      "   macro avg       0.84      0.60      0.62      1192\n",
      "weighted avg       0.83      0.83      0.79      1192\n",
      "\n",
      "\n",
      "Hybrid (CNN + RNN) Accuracy: 0.8431208053691275\n",
      "Hybrid (CNN + RNN) Report:\n",
      "               precision    recall  f1-score   support\n",
      "\n",
      "           0       0.86      0.96      0.91       954\n",
      "           1       0.70      0.38      0.49       238\n",
      "\n",
      "    accuracy                           0.84      1192\n",
      "   macro avg       0.78      0.67      0.70      1192\n",
      "weighted avg       0.83      0.84      0.82      1192\n",
      "\n"
     ]
    }
   ],
   "source": [
    "# Compare results\n",
    "print('Traditional ML Classifiers:')\n",
    "print('Logistic Regression Accuracy:', lr_accuracy)\n",
    "print('Logistic Regression Report:\\n', lr_report)\n",
    "print('\\nDecision Tree Accuracy:', dt_accuracy)\n",
    "print('Decision Tree Report:\\n', dt_report)\n",
    "print('\\nRandom Forest Accuracy:', rf_accuracy)\n",
    "print('Random Forest Report:\\n', rf_report)\n",
    "\n",
    "print('\\nDeep Learning Classifiers:')\n",
    "print('MLP Accuracy:', mlp_accuracy)\n",
    "print('MLP Report:\\n', mlp_report)\n",
    "print('\\nCNN Accuracy:', cnn_accuracy)\n",
    "print('CNN Report:\\n', cnn_report)\n",
    "print('\\nRNN Accuracy:', rnn_accuracy)\n",
    "print('RNN Report:\\n', rnn_report)\n",
    "print('\\nHybrid (CNN + RNN) Accuracy:', hybrid_accuracy)\n",
    "print('Hybrid (CNN + RNN) Report:\\n', hybrid_report)"
   ]
  },
  {
   "cell_type": "code",
   "execution_count": null,
   "id": "939c3633",
   "metadata": {},
   "outputs": [],
   "source": []
  }
 ],
 "metadata": {
  "kernelspec": {
   "display_name": "Python 3 (ipykernel)",
   "language": "python",
   "name": "python3"
  },
  "language_info": {
   "codemirror_mode": {
    "name": "ipython",
    "version": 3
   },
   "file_extension": ".py",
   "mimetype": "text/x-python",
   "name": "python",
   "nbconvert_exporter": "python",
   "pygments_lexer": "ipython3",
   "version": "3.9.12"
  }
 },
 "nbformat": 4,
 "nbformat_minor": 5
}
